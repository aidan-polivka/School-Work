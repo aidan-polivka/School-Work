{
 "cells": [
  {
   "cell_type": "markdown",
   "metadata": {},
   "source": [
    "# IST 371 Machine Learning\n",
    "\n",
    "## Spring 2019\n",
    "\n",
    "### PA 9 -- Chapter 10\n",
    "\n",
    "#### Alex Lange, Aidan Polivka \n",
    "In this assignment, you will create a DNN to detect credit card fraud, using the same `creditcard.csv` file we first used in PA 3. The comments in the cells below walk you through the assignment. "
   ]
  },
  {
   "cell_type": "code",
   "execution_count": 18,
   "metadata": {},
   "outputs": [],
   "source": [
    "import numpy as np\n",
    "import pandas as pd\n",
    "\n",
    "# read the creditcard.csv file into a Pandas dataframe\n",
    "cardinfo = pd.read_csv('creditcard.csv') "
   ]
  },
  {
   "cell_type": "code",
   "execution_count": 19,
   "metadata": {},
   "outputs": [],
   "source": [
    "from sklearn.model_selection import StratifiedShuffleSplit\n",
    "\n",
    "# use StratifiedShuffleSplit to create a training set (80% of the data)\n",
    "# and a testing set (20% of the data)\n",
    "split = StratifiedShuffleSplit(n_splits = 1, test_size = 0.2, random_state = 68333)\n",
    "for train_index, test_index in split.split(cardinfo, cardinfo['Class']):\n",
    "    train_set = cardinfo.loc[train_index]\n",
    "    test_set = cardinfo.loc[test_index]"
   ]
  },
  {
   "cell_type": "code",
   "execution_count": 20,
   "metadata": {},
   "outputs": [],
   "source": [
    "# create X and X_test, with all the features except 'Class'\n",
    "X_test = train_set.drop('Class', axis = 1)\n",
    "X=train_set.drop('Class',axis=1)\n",
    "\n",
    "\n",
    "# create y and y_test, with only the 'Class' values\n",
    "y_test = train_set['Class'].copy()\n",
    "y = train_set['Class'].copy()"
   ]
  },
  {
   "cell_type": "code",
   "execution_count": 21,
   "metadata": {},
   "outputs": [],
   "source": [
    "from sklearn.preprocessing import StandardScaler\n",
    "\n",
    "# use StandardScaler to scale X and X_test\n",
    "scaler = StandardScaler()\n",
    "scaled_data_X = scaler.fit_transform(X)\n",
    "scaled_data_Xtest= scaler.fit_transform(X_test)"
   ]
  },
  {
   "cell_type": "code",
   "execution_count": 22,
   "metadata": {},
   "outputs": [
    {
     "name": "stdout",
     "output_type": "stream",
     "text": [
      "_________________________________________________________________\n",
      "Layer (type)                 Output Shape              Param #   \n",
      "=================================================================\n",
      "dense_4 (Dense)              (None, 30)                930       \n",
      "_________________________________________________________________\n",
      "dropout_2 (Dropout)          (None, 30)                0         \n",
      "_________________________________________________________________\n",
      "dense_5 (Dense)              (None, 120)               3720      \n",
      "_________________________________________________________________\n",
      "dropout_3 (Dropout)          (None, 120)               0         \n",
      "_________________________________________________________________\n",
      "dense_6 (Dense)              (None, 30)                3630      \n",
      "_________________________________________________________________\n",
      "dense_7 (Dense)              (None, 1)                 31        \n",
      "=================================================================\n",
      "Total params: 8,311\n",
      "Trainable params: 8,311\n",
      "Non-trainable params: 0\n",
      "_________________________________________________________________\n"
     ]
    }
   ],
   "source": [
    "import tensorflow as tf\n",
    "\n",
    "\n",
    "# Use Keras to define the DNN model:\n",
    "#    30-node input layer  \n",
    "#    <hidden layer(s) are up to you>\n",
    "#    1-node output layer using sigmoid activation\n",
    "modelx = tf.keras.models.Sequential()\n",
    "modelx.add(tf.keras.layers.Dense(30,input_shape=(30,)))\n",
    "modelx.add(tf.keras.layers.Dropout(.5))\n",
    "modelx.add(tf.keras.layers.Dense(120))\n",
    "modelx.add(tf.keras.layers.Dropout(.5))\n",
    "modelx.add(tf.keras.layers.Dense(30))\n",
    "modelx.add(tf.keras.layers.Dense(1))\n",
    "\n",
    "modelx.summary()"
   ]
  },
  {
   "cell_type": "code",
   "execution_count": 23,
   "metadata": {},
   "outputs": [],
   "source": [
    "# Compile the model into an executable form\n",
    "#    Experiment with optimizers from https://keras.io/optimizers/\n",
    "#    Experiment with loss functions from https://keras.io/losses/\n",
    "#        (Not all will work with this data)\n",
    "#    Use accuracy as the metric\n",
    "modelx.compile(loss='mean_absolute_percentage_error', optimizer='adadelta', metrics=[\"accuracy\"])"
   ]
  },
  {
   "cell_type": "code",
   "execution_count": 25,
   "metadata": {},
   "outputs": [
    {
     "name": "stdout",
     "output_type": "stream",
     "text": [
      "Epoch 1/7\n",
      "227845/227845 [==============================] - 21s 94us/sample - loss: 3102336282.0763 - acc: 0.6360\n",
      "Epoch 2/7\n",
      "227845/227845 [==============================] - 22s 95us/sample - loss: 13527215207.7162 - acc: 0.8218\n",
      "Epoch 3/7\n",
      "227845/227845 [==============================] - 21s 93us/sample - loss: 16237427003.5060 - acc: 0.9171\n",
      "Epoch 4/7\n",
      "227845/227845 [==============================] - 22s 94us/sample - loss: 109248841076.3523 - acc: 0.9224\n",
      "Epoch 5/7\n",
      "227845/227845 [==============================] - 22s 95us/sample - loss: nan - acc: 0.9917\n",
      "Epoch 6/7\n",
      "227845/227845 [==============================] - 21s 94us/sample - loss: nan - acc: 0.9983\n",
      "Epoch 7/7\n",
      "227845/227845 [==============================] - 22s 94us/sample - loss: nan - acc: 0.9983\n"
     ]
    },
    {
     "data": {
      "text/plain": [
       "<tensorflow.python.keras.callbacks.History at 0x20935a16f98>"
      ]
     },
     "execution_count": 25,
     "metadata": {},
     "output_type": "execute_result"
    }
   ],
   "source": [
    "# Train the model on the training data\n",
    "#    (You should only need a few epochs)\n",
    "modelx.fit(X, y, epochs=7)"
   ]
  },
  {
   "cell_type": "code",
   "execution_count": 26,
   "metadata": {},
   "outputs": [
    {
     "name": "stdout",
     "output_type": "stream",
     "text": [
      "227845/227845 [==============================] - 9s 38us/sample - loss: nan - acc: 0.9983\n"
     ]
    },
    {
     "data": {
      "text/plain": [
       "[nan, 0.99827075]"
      ]
     },
     "execution_count": 26,
     "metadata": {},
     "output_type": "execute_result"
    }
   ],
   "source": [
    "# Evaluate the model on the test data / labels, and\n",
    "# print the results\n",
    "modelx.evaluate(X_test, y_test)\n"
   ]
  },
  {
   "cell_type": "code",
   "execution_count": null,
   "metadata": {},
   "outputs": [],
   "source": []
  }
 ],
 "metadata": {
  "kernelspec": {
   "display_name": "Python 3",
   "language": "python",
   "name": "python3"
  },
  "language_info": {
   "codemirror_mode": {
    "name": "ipython",
    "version": 3
   },
   "file_extension": ".py",
   "mimetype": "text/x-python",
   "name": "python",
   "nbconvert_exporter": "python",
   "pygments_lexer": "ipython3",
   "version": "3.7.1"
  }
 },
 "nbformat": 4,
 "nbformat_minor": 2
}
